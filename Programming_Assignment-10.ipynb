{
 "cells": [
  {
   "cell_type": "code",
   "execution_count": 2,
   "id": "068d5e97",
   "metadata": {},
   "outputs": [
    {
     "name": "stdout",
     "output_type": "stream",
     "text": [
      "Enter the elements in the list:2 5 6 4 1 \n",
      "Sum of elements of the list:18\n"
     ]
    }
   ],
   "source": [
    "#1.\tWrite a Python program to find sum of elements in list?\n",
    "a=[int(i) for i in input('Enter the elements in the list:').split()]\n",
    "print(\"Sum of elements of the list:{}\".format(sum(a)))"
   ]
  },
  {
   "cell_type": "code",
   "execution_count": 3,
   "id": "e23934e6",
   "metadata": {},
   "outputs": [
    {
     "name": "stdout",
     "output_type": "stream",
     "text": [
      "Enter the elements in the list:2 4 6 1\n",
      "Multipication of elements of the list:48\n"
     ]
    }
   ],
   "source": [
    "#2.\tWrite a Python program to  Multiply all numbers in the list?\n",
    "a=[int(i) for i in input('Enter the elements in the list:').split()]\n",
    "p=1\n",
    "for i in a:\n",
    "    p*=i\n",
    "print(\"Multipication of elements of the list:{}\".format(p))"
   ]
  },
  {
   "cell_type": "code",
   "execution_count": 4,
   "id": "959a0d02",
   "metadata": {},
   "outputs": [
    {
     "name": "stdout",
     "output_type": "stream",
     "text": [
      "Enter the elements in the list:2 5 44 89 63\n",
      "Smallest of element of the list:2\n"
     ]
    }
   ],
   "source": [
    "#3.\tWrite a Python program to find smallest number in a list?\n",
    "a=[int(i) for i in input('Enter the elements in the list:').split()]\n",
    "print(\"Smallest of element of the list:{}\".format(min(a)))"
   ]
  },
  {
   "cell_type": "code",
   "execution_count": 5,
   "id": "c113e918",
   "metadata": {},
   "outputs": [
    {
     "name": "stdout",
     "output_type": "stream",
     "text": [
      "Enter the elements in the list:6 87 99 123\n",
      "Smallest of element of the list:123\n"
     ]
    }
   ],
   "source": [
    "#4.\tWrite a Python program to find largest number in a list?\n",
    "a=[int(i) for i in input('Enter the elements in the list:').split()]\n",
    "print(\"Largest element of the list:{}\".format(max(a)))"
   ]
  },
  {
   "cell_type": "code",
   "execution_count": 8,
   "id": "01f2640f",
   "metadata": {},
   "outputs": [
    {
     "name": "stdout",
     "output_type": "stream",
     "text": [
      "Enter the elements in the list:22 33 55 46\n",
      "Smallest of element of the list:46\n"
     ]
    }
   ],
   "source": [
    "#5.\tWrite a Python program to find second largest number in a list?\n",
    "a=sorted([int(i) for i in input('Enter the elements in the list:').split()])\n",
    "print(\"Second largest  element of the list:{}\".format(a[len(a)-2]))"
   ]
  },
  {
   "cell_type": "code",
   "execution_count": 9,
   "id": "553a73be",
   "metadata": {},
   "outputs": [
    {
     "name": "stdout",
     "output_type": "stream",
     "text": [
      "Enter the elements in the list:1 2 3 4 5 6\n",
      "Enter N:3\n",
      "3 largest  element of the list:4\n"
     ]
    }
   ],
   "source": [
    "#6.\tWrite a Python program to find N largest elements from a list?\n",
    "a=sorted([int(i) for i in input('Enter the elements in the list:').split()])\n",
    "num=int(input('Enter N:'))\n",
    "print(\"{} largest  element of the list:{}\".format(num,a[len(a)-num]))"
   ]
  },
  {
   "cell_type": "code",
   "execution_count": 11,
   "id": "0f1a928c",
   "metadata": {},
   "outputs": [
    {
     "name": "stdout",
     "output_type": "stream",
     "text": [
      "Enter the elements in the list:1 22 33 65 48 96 32\n",
      "Even numbers in the list are:[22, 48, 96, 32]\n"
     ]
    }
   ],
   "source": [
    "#7.\tWrite a Python program to print even numbers in a list?\n",
    "a=[int(i) for i in input('Enter the elements in the list:').split()]\n",
    "p=[i for i in a if i%2==0]\n",
    "print('Even numbers in the list are:{}'.format(p))"
   ]
  },
  {
   "cell_type": "code",
   "execution_count": 12,
   "id": "84cb59fb",
   "metadata": {},
   "outputs": [
    {
     "name": "stdout",
     "output_type": "stream",
     "text": [
      "Enter the elements in the list:56 45 87 96 3236 121\n",
      "Odd numbers in the list are:[45, 87, 121]\n"
     ]
    }
   ],
   "source": [
    "#8.\tWrite a Python program to print odd numbers in a List?\n",
    "a=[int(i) for i in input('Enter the elements in the list:').split()]\n",
    "p=[i for i in a if i%2!=0]\n",
    "print('Odd numbers in the list are:{}'.format(p))"
   ]
  },
  {
   "cell_type": "code",
   "execution_count": 14,
   "id": "ad44dfbd",
   "metadata": {},
   "outputs": [
    {
     "data": {
      "text/plain": [
       "[1, 2, 3]"
      ]
     },
     "execution_count": 14,
     "metadata": {},
     "output_type": "execute_result"
    }
   ],
   "source": [
    "#9.\tWrite a Python program to Remove empty List from List?\n",
    "def removeList(a):\n",
    "    p=[]\n",
    "    for i in a:\n",
    "        if(type(i)==list and len(i)==0):\n",
    "            continue\n",
    "        else:\n",
    "            p.append(i)\n",
    "    return p\n",
    "a=[1,2,3,[]]\n",
    "removeList(a)"
   ]
  },
  {
   "cell_type": "code",
   "execution_count": 15,
   "id": "f771f503",
   "metadata": {},
   "outputs": [
    {
     "name": "stdout",
     "output_type": "stream",
     "text": [
      "Enter the elements in the list:1 2 5 47 96\n",
      "The original list :[1, 2, 5, 47, 96] having id:2021545109184\n",
      "The cloned list :[1, 2, 5, 47, 96] having id:2021545101504\n"
     ]
    }
   ],
   "source": [
    "#10.\tWrite a Python program to Cloning or Copying a list?\n",
    "a=[int(i) for i in input('Enter the elements in the list:').split()]\n",
    "b=a.copy()\n",
    "print('The original list :{} having id:{}'.format(a,id(a)))\n",
    "print('The cloned list :{} having id:{}'.format(b,id(b)))"
   ]
  },
  {
   "cell_type": "code",
   "execution_count": null,
   "id": "89a3e95e",
   "metadata": {},
   "outputs": [],
   "source": [
    "#11.\tWrite a Python program to Count occurrences of an element in a list?\n",
    "a=[int(i) for i in input('Enter the elements in the list:').split()]\n",
    "num=int(input('Enter the element which you need the count:'))\n",
    "print('The total no:od')"
   ]
  }
 ],
 "metadata": {
  "kernelspec": {
   "display_name": "Python 3 (ipykernel)",
   "language": "python",
   "name": "python3"
  },
  "language_info": {
   "codemirror_mode": {
    "name": "ipython",
    "version": 3
   },
   "file_extension": ".py",
   "mimetype": "text/x-python",
   "name": "python",
   "nbconvert_exporter": "python",
   "pygments_lexer": "ipython3",
   "version": "3.9.13"
  }
 },
 "nbformat": 4,
 "nbformat_minor": 5
}
