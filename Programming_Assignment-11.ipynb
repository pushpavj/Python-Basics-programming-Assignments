{
 "cells": [
  {
   "cell_type": "code",
   "execution_count": 3,
   "id": "598c7e27",
   "metadata": {},
   "outputs": [
    {
     "name": "stdout",
     "output_type": "stream",
     "text": [
      "Enter comma seperated words:harsha,chitra,eswar,chetoos,ram,lam\n",
      "Enter the length:5\n",
      "['harsha', 'chitra', 'eswar', 'chetoos', 'ram', 'lam']\n",
      "harsha\n",
      "chitra\n",
      "chetoos\n"
     ]
    }
   ],
   "source": [
    "#1.\tWrite a Python program to find words which are greater than given length k?\n",
    "words=input('Enter comma seperated words:').split(',')\n",
    "k=int(input('Enter the length:'))\n",
    "#print(words)\n",
    "for i in words:\n",
    "    if(len(i)>k):\n",
    "        print(i)"
   ]
  },
  {
   "cell_type": "code",
   "execution_count": 4,
   "id": "50b74087",
   "metadata": {},
   "outputs": [
    {
     "name": "stdout",
     "output_type": "stream",
     "text": [
      "Enter the string:harsha\n",
      "Enter the index of character you wanna remove:1\n",
      "Result:hrsha\n"
     ]
    }
   ],
   "source": [
    "#2.\tWrite a Python program for removing i-th character from a string?\n",
    "word=input('Enter the string:')\n",
    "i=int(input('Enter the index of character you wanna remove:'))\n",
    "print('Result:{}'.format(word[:i]+word[i+1:]))"
   ]
  },
  {
   "cell_type": "code",
   "execution_count": 10,
   "id": "f3fcc414",
   "metadata": {},
   "outputs": [
    {
     "name": "stdout",
     "output_type": "stream",
     "text": [
      "Enter the string:harsha,chitra,kamal,swetha,raju\n",
      "The split list is:['harsha', 'chitra', 'kamal', 'swetha', 'raju']\n",
      "The string after join operation:harsha,chitra,kamal,swetha,raju\n"
     ]
    }
   ],
   "source": [
    "#3.\tWrite a Python program to split and join a string?\n",
    "'''Forming a list if we find a ,  in the input string\n",
    "join a after each and every character'''\n",
    "word=input('Enter the string:').split(',')\n",
    "print('The split list is:{}'.format(word))\n",
    "print('The string after join operation:{}'.format(','.join(word)))"
   ]
  },
  {
   "cell_type": "code",
   "execution_count": 14,
   "id": "d9b256bb",
   "metadata": {},
   "outputs": [
    {
     "name": "stdout",
     "output_type": "stream",
     "text": [
      "Enter the string:46456\n",
      "Not binary string\n"
     ]
    }
   ],
   "source": [
    "#4.\tWrite a Python to check if a given string is binary string or not?\n",
    "num=input('Enter the string:')\n",
    "n=0\n",
    "for i in num:\n",
    "    if(i=='0' or i=='1'):\n",
    "        n+=1\n",
    "        continue\n",
    "    else:\n",
    "        print('Not binary string')\n",
    "        break\n",
    "    \n",
    "if n!=0:\n",
    "    print(\"It's a bniary string\")"
   ]
  },
  {
   "cell_type": "code",
   "execution_count": 16,
   "id": "20f167f6",
   "metadata": {},
   "outputs": [
    {
     "name": "stdout",
     "output_type": "stream",
     "text": [
      "Enter string 1:harsha,is,god\n",
      "Enter string 2:kamal,is,devil\n",
      "harsha god kamal devil "
     ]
    }
   ],
   "source": [
    "#5.\tWrite a Python program to find uncommon words from two Strings?\n",
    "string1=input('Enter string 1:').split(',')\n",
    "string2=input('Enter string 2:').split(',')\n",
    "for i in string1:\n",
    "    if i not in string2:\n",
    "        print(i,end=' ')\n",
    "for i in string2:\n",
    "    if i not in string1:\n",
    "        print(i,end=' ')"
   ]
  },
  {
   "cell_type": "code",
   "execution_count": 18,
   "id": "36852653",
   "metadata": {},
   "outputs": [
    {
     "name": "stdout",
     "output_type": "stream",
     "text": [
      "Enter the string:harsha\n",
      "The duplicate characters are:{'a', 'h'}\n"
     ]
    }
   ],
   "source": [
    "#6.\tWrite a Python to find all duplicate characters in string?\n",
    "string=input('Enter the string:')\n",
    "len1=2\n",
    "l=[]\n",
    "for i in string:\n",
    "    if(string.count(i)>=len1):\n",
    "        l.append(i)\n",
    "print('The duplicate characters are:{}'.format(set(l)))"
   ]
  },
  {
   "cell_type": "code",
   "execution_count": 22,
   "id": "7001d621",
   "metadata": {},
   "outputs": [
    {
     "name": "stdout",
     "output_type": "stream",
     "text": [
      "Enter the string:harsha!!\n",
      "The string contains special characters\n"
     ]
    }
   ],
   "source": [
    "#7.\tWrite a Python Program to check if a string contains any special character?\n",
    "string=input('Enter the string:')\n",
    "n=0\n",
    "for i in string:\n",
    "    if not(i.isalnum()):\n",
    "        n+=1\n",
    "        print('The string contains special characters')\n",
    "        break\n",
    "if n==0:\n",
    "       print('The string doesnot contains special characters')"
   ]
  },
  {
   "cell_type": "code",
   "execution_count": null,
   "id": "c1f619a0",
   "metadata": {},
   "outputs": [],
   "source": []
  }
 ],
 "metadata": {
  "kernelspec": {
   "display_name": "Python 3 (ipykernel)",
   "language": "python",
   "name": "python3"
  },
  "language_info": {
   "codemirror_mode": {
    "name": "ipython",
    "version": 3
   },
   "file_extension": ".py",
   "mimetype": "text/x-python",
   "name": "python",
   "nbconvert_exporter": "python",
   "pygments_lexer": "ipython3",
   "version": "3.9.13"
  }
 },
 "nbformat": 4,
 "nbformat_minor": 5
}
