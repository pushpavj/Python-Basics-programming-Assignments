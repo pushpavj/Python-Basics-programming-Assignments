{
 "cells": [
  {
   "cell_type": "code",
   "execution_count": 1,
   "id": "a1d63303",
   "metadata": {},
   "outputs": [
    {
     "name": "stdout",
     "output_type": "stream",
     "text": [
      "Enter the number of values in dictionary:3\n",
      "Enter key0:1\n",
      "Enter value0:eswar\n",
      "Enter key1:2\n",
      "Enter value1:eswar\n",
      "Enter key2:3\n",
      "Enter value2:hi\n",
      "{'eswar', 'hi'}\n"
     ]
    }
   ],
   "source": [
    "#1.Write a Python program to Extract Unique values dictionary values?\n",
    "d=dict()\n",
    "n=int(input(\"Enter the number of values in dictionary:\"))\n",
    "for i in range(n):\n",
    "    key=int(input(\"Enter key{}:\".format(i)))\n",
    "    val=input(\"Enter value{}:\".format(i))\n",
    "    d[key]=val\n",
    "print(set(d.values()))"
   ]
  },
  {
   "cell_type": "code",
   "execution_count": 4,
   "id": "3b014232",
   "metadata": {},
   "outputs": [
    {
     "name": "stdout",
     "output_type": "stream",
     "text": [
      "Enter the number of values in dictionary:1\n",
      "Enter key0:3\n",
      "Enter value0:2\n",
      "sum of all items in a dictionary 5\n"
     ]
    }
   ],
   "source": [
    "#2.Write a Python program to find the sum of all items in a dictionary?\n",
    "d=dict()\n",
    "n=int(input(\"Enter the number of values in dictionary:\"))\n",
    "for i in range(n):\n",
    "    key=int(input(\"Enter key{}:\".format(i)))\n",
    "    val=int(input(\"Enter value{}:\".format(i)))\n",
    "    d[key]=val\n",
    "res=0\n",
    "for key,val in d.items():\n",
    "    res+=(key+val)\n",
    "print(\"sum of all items in a dictionary {}\".format(res))"
   ]
  },
  {
   "cell_type": "code",
   "execution_count": 5,
   "id": "ca4578d6",
   "metadata": {},
   "outputs": [
    {
     "name": "stdout",
     "output_type": "stream",
     "text": [
      "Enter the number of values in dictionary1:3\n",
      "Enter key0:1\n",
      "Enter value0:eswqr\n",
      "Enter key1:2\n",
      "Enter value1:hi\n",
      "Enter key2:3\n",
      "Enter value2:good\n",
      "Enter the number of values in dictionary2:2\n",
      "Enter key0:1\n",
      "Enter value0:win\n",
      "Enter key1:4\n",
      "Enter value1:shh\n",
      "Merging two dictionaries:  {1: 'win', 2: 'hi', 3: 'good', 4: 'shh'}\n"
     ]
    }
   ],
   "source": [
    "#3.Write a Python program to Merging two Dictionaries?\n",
    "d1=dict()\n",
    "d2=dict()\n",
    "n=int(input(\"Enter the number of values in dictionary1:\"))\n",
    "for i in range(n):\n",
    "    key=int(input(\"Enter key{}:\".format(i)))\n",
    "    val=input(\"Enter value{}:\".format(i))\n",
    "    d1[key]=val\n",
    "n=int(input(\"Enter the number of values in dictionary2:\"))\n",
    "for i in range(n):\n",
    "    key=int(input(\"Enter key{}:\".format(i)))\n",
    "    val=input(\"Enter value{}:\".format(i))\n",
    "    d2[key]=val\n",
    "d1.update(d2)\n",
    "print(\"Merging two dictionaries: \",d1)"
   ]
  },
  {
   "cell_type": "code",
   "execution_count": 9,
   "id": "5f3f2328",
   "metadata": {},
   "outputs": [
    {
     "name": "stdout",
     "output_type": "stream",
     "text": [
      "key-values list to flat dictionary: {0: 'Sun', 1: 'Mon', 2: 'Tues', 3: 'Wednes'}\n"
     ]
    }
   ],
   "source": [
    "#4.Write a Python program to convert key-values list to flat dictionary?\n",
    "d={'week' : [0, 1, 2, 3],'name' : ['Sun', 'Mon', 'Tues','Wednes']}\n",
    "res=dict(zip(d['week'],d['name']))\n",
    "print(\"key-values list to flat dictionary:\",res)"
   ]
  },
  {
   "cell_type": "code",
   "execution_count": 12,
   "id": "6ee5b10c",
   "metadata": {},
   "outputs": [
    {
     "name": "stdout",
     "output_type": "stream",
     "text": [
      "Enter the number of values in dictionary1:3\n",
      "Enter key0:6\n",
      "Enter value0:er\n",
      "Enter key1:2\n",
      "Enter value1:de\n",
      "Enter key2:1\n",
      "Enter value2:vgr\n",
      "Enter key,value to be inserted: \n",
      "Enter key:8\n",
      "Enter value:fghh\n",
      "Insertion at the beginning in OrderedDict OrderedDict([(8, 'fghh'), (6, 'er'), (2, 'de'), (1, 'vgr')])\n"
     ]
    }
   ],
   "source": [
    "#5.Write a Python program to insertion at the beginning in OrderedDict?\n",
    "from collections import OrderedDict\n",
    "d=dict()\n",
    "n=int(input(\"Enter the number of values in dictionary1:\"))\n",
    "for i in range(n):\n",
    "    key=int(input(\"Enter key{}:\".format(i)))\n",
    "    val=input(\"Enter value{}:\".format(i))\n",
    "    d[key]=val\n",
    "d=OrderedDict(d.items())\n",
    "print(\"Enter key,value to be inserted: \")\n",
    "key,val=int(input(\"Enter key:\")),input(\"Enter value:\")\n",
    "d.update({key:val})\n",
    "d.move_to_end(key,last=False)\n",
    "print(\"Insertion at the beginning in OrderedDict\",d)"
   ]
  },
  {
   "cell_type": "code",
   "execution_count": 20,
   "id": "715c9864",
   "metadata": {},
   "outputs": [
    {
     "name": "stdout",
     "output_type": "stream",
     "text": [
      "Enter a string:eswar\n",
      "Enter pattern: aw\n",
      "Character not in order\n",
      "None\n"
     ]
    }
   ],
   "source": [
    "#6.Write a Python program to check order of character in string using OrderedDict()?\n",
    "from collections import OrderedDict\n",
    "def ordered(s,pattern):\n",
    "    d=OrderedDict.fromkeys(s)\n",
    "    l=0\n",
    "    for key,val in d.items():\n",
    "        if(key==pattern[l]):\n",
    "            l+=1\n",
    "        if(len(pattern)==l):\n",
    "            return 'Character is in order'\n",
    "    return 'Character not in order'\n",
    "\n",
    "s=input('Enter a string:')\n",
    "pattern=input('Enter pattern: ')\n",
    "print(ordered(s,pattern))\n"
   ]
  },
  {
   "cell_type": "code",
   "execution_count": 21,
   "id": "7af5de84",
   "metadata": {},
   "outputs": [
    {
     "name": "stdout",
     "output_type": "stream",
     "text": [
      "Enter the number of values in dictionary1:3\n",
      "Enter key0:2\n",
      "Enter value0:esa\n",
      "Enter key1:1\n",
      "Enter value1:df\n",
      "Enter key2:6\n",
      "Enter value2:vfr\n",
      "Enter choice to sort with key or value:k\n",
      "{'1': 'df', '2': 'esa', '6': 'vfr'}\n"
     ]
    }
   ],
   "source": [
    "#7.Write a Python program to sort Python Dictionaries by Key or Value?\n",
    "from collections import OrderedDict\n",
    "d=dict()\n",
    "n=int(input(\"Enter the number of values in dictionary:\"))\n",
    "for i in range(n):\n",
    "    key=input(\"Enter key{}:\".format(i))\n",
    "    val=input(\"Enter value{}:\".format(i))\n",
    "    d[key]=val\n",
    "choice=input(\"Enter choice to sort with key or value:\")\n",
    "if(choice.startswith('k')):\n",
    "    k=list(d.keys())\n",
    "    k.sort()\n",
    "    sorteddict={i: d[i] for i in k}\n",
    "    print(sorteddict)\n",
    "if(choice.startswith('v')):\n",
    "    k=list(d.values())\n",
    "    k.sort()\n",
    "    sorteddict={i: d[i] for i in k}\n",
    "    print(sorteddict)"
   ]
  },
  {
   "cell_type": "code",
   "execution_count": null,
   "id": "c2ed1f83",
   "metadata": {},
   "outputs": [],
   "source": []
  }
 ],
 "metadata": {
  "kernelspec": {
   "display_name": "Python 3 (ipykernel)",
   "language": "python",
   "name": "python3"
  },
  "language_info": {
   "codemirror_mode": {
    "name": "ipython",
    "version": 3
   },
   "file_extension": ".py",
   "mimetype": "text/x-python",
   "name": "python",
   "nbconvert_exporter": "python",
   "pygments_lexer": "ipython3",
   "version": "3.9.13"
  }
 },
 "nbformat": 4,
 "nbformat_minor": 5
}
