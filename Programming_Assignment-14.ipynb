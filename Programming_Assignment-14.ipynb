{
 "cells": [
  {
   "cell_type": "markdown",
   "id": "45f1cc90",
   "metadata": {},
   "source": [
    "Define a class with a generator which can iterate the numbers, which are divisible by 7, between a given range 0 and n."
   ]
  },
  {
   "cell_type": "code",
   "execution_count": 3,
   "id": "d6301ec6",
   "metadata": {},
   "outputs": [
    {
     "name": "stdout",
     "output_type": "stream",
     "text": [
      "Enter the maximum range of n:100\n",
      "0\n",
      "7\n",
      "14\n",
      "21\n",
      "28\n",
      "35\n",
      "42\n",
      "49\n",
      "56\n",
      "63\n",
      "70\n",
      "77\n",
      "84\n",
      "91\n",
      "98\n"
     ]
    }
   ],
   "source": [
    "class Iter:\n",
    "    \n",
    "    def divid(self,n):\n",
    "        for i in range(0,n):\n",
    "            if i%7==0:\n",
    "                yield i\n",
    "n=int(input('Enter the maximum range of n:'))\n",
    "p=Iter()\n",
    "for i in p.divid(n):\n",
    "    print(i)"
   ]
  },
  {
   "cell_type": "markdown",
   "id": "afb6c823",
   "metadata": {},
   "source": [
    "Write a program to compute the frequency of the words from the input. The output should output after sorting the key alphanumerically. \n",
    "\n",
    "Suppose the following input is supplied to the program:\n",
    "\n",
    "New to Python or choosing between Python 2 and Python 3? Read Python 2 or Python 3.\n",
    "\n",
    "Then, the output should be:\n",
    "\n",
    "2:2\n",
    "\n",
    "3.:1\n",
    "\n",
    "3?:1\n",
    "\n",
    "New:1\n",
    "\n",
    "Python:5\n",
    "\n",
    "Read:1\n",
    "\n",
    "and:1\n",
    "\n",
    "between:1\n",
    "\n",
    "choosing:1\n",
    "\n",
    "or:2\n",
    "\n",
    "to:1\n"
   ]
  },
  {
   "cell_type": "code",
   "execution_count": 32,
   "id": "5bfaa691",
   "metadata": {},
   "outputs": [
    {
     "name": "stdout",
     "output_type": "stream",
     "text": [
      "Enter the string:New to Python or choosing between Python 2 and Python 3? Read Python 2 or Python 3.\n",
      "2:2\n",
      "3.:1\n",
      "3?:1\n",
      "New:1\n",
      "Python:5\n",
      "Read:1\n",
      "and:1\n",
      "between:1\n",
      "choosing:1\n",
      "or:2\n",
      "to:1\n"
     ]
    }
   ],
   "source": [
    "def sort(lst):\n",
    "    lst.sort(key=str)\n",
    "    return lst\n",
    "lst=input('Enter the string:').split(' ')\n",
    "sort(lst)\n",
    "flst=list(sort(list(set(lst))))\n",
    "for i in flst:\n",
    "    print('{}:{}'.format(i,lst.count(i)))"
   ]
  },
  {
   "cell_type": "markdown",
   "id": "48da9dae",
   "metadata": {},
   "source": [
    "Define a class Person and its two child classes: Male and Female. All classes have a method \"getGender\" which can print \"Male\" for Male class and \"Female\" for Female class."
   ]
  },
  {
   "cell_type": "code",
   "execution_count": 34,
   "id": "1294f534",
   "metadata": {},
   "outputs": [
    {
     "name": "stdout",
     "output_type": "stream",
     "text": [
      "My gender is male\n",
      "My gender is Female\n"
     ]
    }
   ],
   "source": [
    "class Person:\n",
    "    def human(self):\n",
    "        print(\"I'm a human\")\n",
    "    def getGender(self):\n",
    "        print(\"Get gender in Person class\")\n",
    "class Male(Person):\n",
    "    def getGender(self):\n",
    "        print(\"My gender is male\")\n",
    "class Female(Person):\n",
    "    def getGender(self):\n",
    "        print(\"My gender is Female\")\n",
    "male=Male()\n",
    "female=Female()\n",
    "male.getGender()\n",
    "female.getGender()\n"
   ]
  },
  {
   "cell_type": "markdown",
   "id": "717db2e2",
   "metadata": {},
   "source": [
    "Please write a program to generate all sentences where subject is in [\"I\", \"You\"] and verb is in [\"Play\", \"Love\"] and the object is in [\"Hockey\",\"Football\"]."
   ]
  },
  {
   "cell_type": "code",
   "execution_count": 35,
   "id": "f1876df4",
   "metadata": {},
   "outputs": [
    {
     "name": "stdout",
     "output_type": "stream",
     "text": [
      "I Play Hockey\n",
      "I Play Football\n",
      "I Love Hockey\n",
      "I Love Football\n",
      "You Play Hockey\n",
      "You Play Football\n",
      "You Love Hockey\n",
      "You Love Football\n"
     ]
    }
   ],
   "source": [
    "subjects=[\"I\", \"You\"]\n",
    "verbs=[\"Play\", \"Love\"]\n",
    "objects=[\"Hockey\",\"Football\"]\n",
    "\n",
    "for sub in subjects:\n",
    "    for verb in verbs:\n",
    "        for obj in objects:\n",
    "            print(\"{} {} {}\".format(sub,verb,obj))"
   ]
  },
  {
   "cell_type": "markdown",
   "id": "0b68d5c6",
   "metadata": {},
   "source": [
    "Please write a program to compress and decompress the string \"hello world!hello world!hello world!hello world!\"."
   ]
  },
  {
   "cell_type": "code",
   "execution_count": 43,
   "id": "bb88f47e",
   "metadata": {},
   "outputs": [
    {
     "name": "stdout",
     "output_type": "stream",
     "text": [
      "b'x\\x9c\\xcbH\\xcd\\xc9\\xc9W(\\xcf/\\xcaIQ\\xcc \\x82\\r\\x00\\xbd[\\x11\\xf5'\n",
      "b'hello world!hello world!hello world!hello world!'\n"
     ]
    }
   ],
   "source": [
    "import zlib\n",
    "s = 'hello world!hello world!hello world!hello world!'\n",
    "# In Python 3 zlib.compress() accepts only DataType <bytes>\n",
    "y = bytes(s, 'utf-8')\n",
    "x = zlib.compress(y)\n",
    "print(x)\n",
    "print(zlib.decompress(x))"
   ]
  },
  {
   "cell_type": "markdown",
   "id": "3fab49ed",
   "metadata": {},
   "source": [
    "Please write a binary search function which searches an item in a sorted list. The function should return the index of element to be searched in the list."
   ]
  },
  {
   "cell_type": "code",
   "execution_count": 58,
   "id": "4f77e8a6",
   "metadata": {},
   "outputs": [
    {
     "name": "stdout",
     "output_type": "stream",
     "text": [
      "Enter the list:2 4 6 8 10\n",
      "Enter the key:10\n",
      "4\n"
     ]
    }
   ],
   "source": [
    "def binary_search(lst,key):\n",
    "    low=0\n",
    "    high=len(lst)-1\n",
    "    \n",
    "    while low<=high:\n",
    "        mid=(low+high)//2\n",
    "        if(lst[mid]==key):\n",
    "            return mid\n",
    "        elif lst[mid]>key:\n",
    "            high=mid-1\n",
    "        else:\n",
    "            low=mid+1\n",
    "    return -1\n",
    "lst=[int(i) for i in input('Enter the list:').split(' ')]\n",
    "key=int(input('Enter the key:'))\n",
    "print(binary_search(lst,key))"
   ]
  },
  {
   "cell_type": "code",
   "execution_count": null,
   "id": "dad32481",
   "metadata": {},
   "outputs": [],
   "source": []
  }
 ],
 "metadata": {
  "kernelspec": {
   "display_name": "Python 3 (ipykernel)",
   "language": "python",
   "name": "python3"
  },
  "language_info": {
   "codemirror_mode": {
    "name": "ipython",
    "version": 3
   },
   "file_extension": ".py",
   "mimetype": "text/x-python",
   "name": "python",
   "nbconvert_exporter": "python",
   "pygments_lexer": "ipython3",
   "version": "3.9.13"
  }
 },
 "nbformat": 4,
 "nbformat_minor": 5
}
