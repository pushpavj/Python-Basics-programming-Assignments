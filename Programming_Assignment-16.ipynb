{
 "cells": [
  {
   "cell_type": "markdown",
   "id": "d95b5164",
   "metadata": {},
   "source": [
    "Question1. Write a function that stutters a word as if someone is struggling to read it. The first two letters are repeated twice with an ellipsis ... and space after each, and then the word is pronounced with a question mark ?.\n",
    "Examples\n",
    "stutter(\"incredible\") ➞ \"in... in... incredible?\"\n",
    "\n",
    "stutter(\"enthusiastic\") ➞ \"en... en... enthusiastic?\"\n",
    "\n",
    "stutter(\"outstanding\") ➞ \"ou... ou... outstanding?\"\n",
    "\n",
    "Hint :- Assume all input is in lower case and at least two characters long.\n"
   ]
  },
  {
   "cell_type": "code",
   "execution_count": 2,
   "id": "019abb31",
   "metadata": {},
   "outputs": [
    {
     "name": "stdout",
     "output_type": "stream",
     "text": [
      "in... in... incredible?\n"
     ]
    }
   ],
   "source": [
    "def shutter(s):\n",
    "    return s[0:2]+'... '+s[0:2]+'... '+s+'?'\n",
    "print(shutter(\"incredible\"))"
   ]
  },
  {
   "cell_type": "markdown",
   "id": "6c9d492b",
   "metadata": {},
   "source": [
    "Create a function that takes an angle in radians and returns the corresponding angle in degrees rounded to one decimal place.\n",
    "Examples\n",
    "radians_to_degrees(1) ➞ 57.3\n",
    "\n",
    "radians_to_degrees(20) ➞ 1145.9\n",
    "\n",
    "radians_to_degrees(50) ➞ 2864.8\n"
   ]
  },
  {
   "cell_type": "code",
   "execution_count": 6,
   "id": "6321760f",
   "metadata": {},
   "outputs": [
    {
     "name": "stdout",
     "output_type": "stream",
     "text": [
      "Enter the value in radians:1\n",
      "The value of radians :1 in degrees :57.3\n"
     ]
    }
   ],
   "source": [
    "import math\n",
    "def radians_to_degrees(n):\n",
    "    return round(n*57.3,1)\n",
    "n=int(input('Enter the value in radians:'))\n",
    "print('The value of radians :{} in degrees :{}'.format(n,radians_to_degrees(n)))"
   ]
  },
  {
   "cell_type": "markdown",
   "id": "678d1c2c",
   "metadata": {},
   "source": [
    "In this challenge, establish if a given integer num is a Curzon number. If 1 plus 2 elevated to num is exactly divisible by 1 plus 2 multiplied by num, then num is a Curzon number.\n",
    "Given a non-negative integer num, implement a function that returns True if num is a Curzon number, or False otherwise.\n",
    "Examples\n",
    "is_curzon(5) ➞ True\n",
    "\n",
    "# 2 ** 5 + 1 = 33\n",
    "# 2 * 5 + 1 = 11\n",
    "# 33 is a multiple of 11\n",
    "\n",
    "is_curzon(10) ➞ False\n",
    "\n",
    "# 2 ** 10 + 1 = 1025\n",
    "# 2 * 10 + 1 = 21\n",
    "# 1025 is not a multiple of 21\n",
    "\n",
    "is_curzon(14) ➞ True\n",
    "\n",
    "# 2 ** 14 + 1 = 16385\n",
    "# 2 * 14 + 1 = 29\n",
    "# 16385 is a multiple of 29\n"
   ]
  },
  {
   "cell_type": "code",
   "execution_count": 7,
   "id": "2384711b",
   "metadata": {},
   "outputs": [
    {
     "name": "stdout",
     "output_type": "stream",
     "text": [
      "Enter the number:10\n",
      "The number is not curzon\n"
     ]
    }
   ],
   "source": [
    "def is_curzon(n):\n",
    "    i=(2**n)+1\n",
    "    j=(2*n)+1\n",
    "    if i%j==0:\n",
    "        return True\n",
    "    else:\n",
    "        return False\n",
    "n=int(input('Enter the number:'))\n",
    "if is_curzon(n):\n",
    "    print('The number is curzon')\n",
    "else:\n",
    "    print('The number is not curzon')"
   ]
  },
  {
   "cell_type": "markdown",
   "id": "4b9490a1",
   "metadata": {},
   "source": [
    "Question 4.Given the side length x find the area of a hexagon.\n",
    " Area=((3(3)^1/2)*s**2)/2 \n",
    "Examples\n",
    "area_of_hexagon(1) ➞ 2.6\n",
    "\n",
    "area_of_hexagon(2) ➞ 10.4\n",
    "\n",
    "area_of_hexagon(3) ➞ 23.4\n"
   ]
  },
  {
   "cell_type": "code",
   "execution_count": 10,
   "id": "6705efbf",
   "metadata": {},
   "outputs": [
    {
     "name": "stdout",
     "output_type": "stream",
     "text": [
      "Enter the side of the hexagon:1\n",
      "The area of hexagon of side:1 :2.6\n"
     ]
    }
   ],
   "source": [
    "import math\n",
    "def area_of_hexagon(n):\n",
    "    return round((3*math.sqrt(3)*math.pow(n,2))/2,1)\n",
    "n=int(input('Enter the side of the hexagon:'))\n",
    "print('The area of hexagon of side:{} :{}'.format(n,area_of_hexagon(n)))"
   ]
  },
  {
   "cell_type": "markdown",
   "id": "dfadf23a",
   "metadata": {},
   "source": [
    "Create a function that returns a base-2 (binary) representation of a base-10 (decimal) string number. To convert is simple: ((2) means base-2 and (10) means base-10) 010101001(2) = 1 + 8 + 32 + 128.\n",
    "Going from right to left, the value of the most right bit is 1, now from that every bit to the left will be x2 the value, value of an 8 bit binary numbers are (256, 128, 64, 32, 16, 8, 4, 2, 1).\n",
    "Examples\n",
    "binary(1) ➞ \"1\"\n",
    "\n",
    "# 1*1 = 1\n",
    "\n",
    "binary(5) ➞ \"101\"\n",
    "\n",
    "# 1*1 + 1*4 = 5\n",
    "\n",
    "binary(10) ➞ \"1010\"\n"
   ]
  },
  {
   "cell_type": "code",
   "execution_count": 15,
   "id": "791d84a5",
   "metadata": {},
   "outputs": [
    {
     "name": "stdout",
     "output_type": "stream",
     "text": [
      "Enter the decimal digit:10\n",
      "The binary equivalent of 10 :1010\n"
     ]
    }
   ],
   "source": [
    "def binary_digit(n):\n",
    "    s=''\n",
    "    while n!=0:\n",
    "        s+=str(n%2)\n",
    "        n//=2\n",
    "    return int(s[::-1])\n",
    "n=int(input('Enter the decimal digit:'))\n",
    "print('The binary equivalent of {} :{}'.format(n,binary_digit(n)))"
   ]
  },
  {
   "cell_type": "code",
   "execution_count": null,
   "id": "adb801d8",
   "metadata": {},
   "outputs": [],
   "source": []
  }
 ],
 "metadata": {
  "kernelspec": {
   "display_name": "Python 3 (ipykernel)",
   "language": "python",
   "name": "python3"
  },
  "language_info": {
   "codemirror_mode": {
    "name": "ipython",
    "version": 3
   },
   "file_extension": ".py",
   "mimetype": "text/x-python",
   "name": "python",
   "nbconvert_exporter": "python",
   "pygments_lexer": "ipython3",
   "version": "3.9.13"
  }
 },
 "nbformat": 4,
 "nbformat_minor": 5
}
