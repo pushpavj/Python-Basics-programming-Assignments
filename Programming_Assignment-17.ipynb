{
 "cells": [
  {
   "cell_type": "markdown",
   "id": "188ba23f",
   "metadata": {},
   "source": [
    "Question1. Create a function that takes three arguments a, b, c and returns the sum of the numbers that are evenly divided by c from the range a, b inclusive.\n",
    "Examples\n",
    "evenly_divisible(1, 10, 20) ➞ 0\n",
    "\n",
    "# No number between 1 and 10 can be evenly divided by 20.\n",
    "\n",
    "evenly_divisible(1, 10, 2) ➞ 30\n",
    "\n",
    "# 2 + 4 + 6 + 8 + 10 = 30\n",
    "\n",
    "evenly_divisible(1, 10, 3) ➞ 18\n",
    "\n",
    "# 3 + 6 + 9 = 18\n",
    "\n"
   ]
  },
  {
   "cell_type": "code",
   "execution_count": 1,
   "id": "7c9533b7",
   "metadata": {},
   "outputs": [
    {
     "name": "stdout",
     "output_type": "stream",
     "text": [
      "Enter the start:1\n",
      "Enter the end:10\n",
      "Enter the divisibility number:20\n",
      "The sum of evenly divisible :0\n"
     ]
    }
   ],
   "source": [
    "def evenly_divisible(a,b,c):\n",
    "    s=0\n",
    "    for i in range(a,b+1):\n",
    "        if(i%c==0):\n",
    "            s+=i\n",
    "    return s\n",
    "a=int(input('Enter the start:'))\n",
    "b=int(input('Enter the end:'))\n",
    "c=int(input('Enter the divisibility number:'))\n",
    "print('The sum of evenly divisible :{}'.format(evenly_divisible(a,b,c)))"
   ]
  },
  {
   "cell_type": "markdown",
   "id": "99509c4b",
   "metadata": {},
   "source": [
    "Question2. Create a function that returns True if a given inequality expression is correct and False otherwise.\n",
    "Examples\n",
    "correct_signs(\"3 < 7 < 11\") ➞ True\n",
    "\n",
    "correct_signs(\"13 > 44 > 33 > 1\") ➞ False\n",
    "\n",
    "correct_signs(\"1 < 2 < 6 < 9 > 3\") ➞ True\n"
   ]
  },
  {
   "cell_type": "code",
   "execution_count": 2,
   "id": "1082e1d8",
   "metadata": {},
   "outputs": [
    {
     "name": "stdout",
     "output_type": "stream",
     "text": [
      "Enter your expression:3 < 7 < 11\n",
      "The value of the expression:3 < 7 < 11 :True\n"
     ]
    }
   ],
   "source": [
    "def correct_signs(s):\n",
    "    return eval(s)\n",
    "s=input('Enter your expression:')\n",
    "print('The value of the expression:{} :{}'.format(s,correct_signs(s)))"
   ]
  },
  {
   "cell_type": "markdown",
   "id": "85a6ebb4",
   "metadata": {},
   "source": [
    "Question3. Create a function that replaces all the vowels in a string with a specified character.\n",
    "Examples\n",
    "replace_vowels(\"the aardvark\", \"#\") ➞ \"th# ##rdv#rk\"\n",
    "\n",
    "replace_vowels(\"minnie mouse\", \"?\") ➞ \"m?nn?? m??s?\"\n",
    "\n",
    "replace_vowels(\"shakespeare\", \"*\") ➞ \"sh*k*sp**r*\"\n"
   ]
  },
  {
   "cell_type": "code",
   "execution_count": 3,
   "id": "e411d99d",
   "metadata": {},
   "outputs": [
    {
     "name": "stdout",
     "output_type": "stream",
     "text": [
      "Enter the string:shakespeare\n",
      "Enter the delimiter:*\n",
      "The replaced string:sh*k*sp**r*\n"
     ]
    }
   ],
   "source": [
    "def replace_vowels(string,limiter):\n",
    "    vowels=['a','e','i','o','u']\n",
    "    s=''\n",
    "    for i in string:\n",
    "        if i in vowels:\n",
    "            s+=limiter\n",
    "        else:\n",
    "            s+=i\n",
    "    return s\n",
    "string=input('Enter the string:')\n",
    "limiter=input('Enter the delimiter:')\n",
    "print('The replaced string:{}'.format(replace_vowels(string,limiter)))"
   ]
  },
  {
   "cell_type": "markdown",
   "id": "a77fb218",
   "metadata": {},
   "source": [
    "Question4. Write a function that calculates the factorial of a number recursively.\n",
    "Examples\n",
    "factorial(5) ➞ 120\n",
    "\n",
    "factorial(3) ➞ 6\n",
    "\n",
    "factorial(1) ➞ 1\n",
    "\n",
    "factorial(0) ➞ 1\n"
   ]
  },
  {
   "cell_type": "code",
   "execution_count": 4,
   "id": "f77f2813",
   "metadata": {},
   "outputs": [
    {
     "name": "stdout",
     "output_type": "stream",
     "text": [
      "Enter the number:5\n",
      "The factorial of 5:120\n"
     ]
    }
   ],
   "source": [
    "def factorial(n):\n",
    "    if(n==1):\n",
    "        return 1\n",
    "    else:\n",
    "        return n*factorial(n-1)\n",
    "n=int(input('Enter the number:'))\n",
    "print('The factorial of {}:{}'.format(n,factorial(n)))"
   ]
  },
  {
   "cell_type": "markdown",
   "id": "9ed08269",
   "metadata": {},
   "source": [
    "Question 5\n",
    "Hamming distance is the number of characters that differ between two strings.\n",
    "To illustrate:\n",
    "String1: \"abcbba\"\n",
    "String2: \"abcbda\"\n",
    "\n",
    "Hamming Distance: 1 - \"b\" vs. \"d\" is the only difference.\n",
    "Create a function that computes the hamming distance between two strings.\n",
    "Examples\n",
    "hamming_distance(\"abcde\", \"bcdef\") ➞ 5\n",
    "\n",
    "hamming_distance(\"abcde\", \"abcde\") ➞ 0\n",
    "\n",
    "hamming_distance(\"strong\", \"strung\") ➞ 1\n"
   ]
  },
  {
   "cell_type": "code",
   "execution_count": 6,
   "id": "0f8dbb55",
   "metadata": {},
   "outputs": [
    {
     "name": "stdout",
     "output_type": "stream",
     "text": [
      "Enter string 1:abcde\n",
      "Enter string 2:bcdef\n",
      "5\n"
     ]
    }
   ],
   "source": [
    "def hamming_distance(str1, str2):\n",
    "    if len(str1) != len(str2):\n",
    "        raise ValueError(\"Strings must be of equal length\")\n",
    "    return sum(1 for a, b in zip(str1, str2) if a != b)\n",
    "str1=input('Enter string 1:')\n",
    "str2=input('Enter string 2:')\n",
    "print(hamming_distance(str1,str2))"
   ]
  },
  {
   "cell_type": "code",
   "execution_count": null,
   "id": "dc2fedf0",
   "metadata": {},
   "outputs": [],
   "source": []
  }
 ],
 "metadata": {
  "kernelspec": {
   "display_name": "Python 3 (ipykernel)",
   "language": "python",
   "name": "python3"
  },
  "language_info": {
   "codemirror_mode": {
    "name": "ipython",
    "version": 3
   },
   "file_extension": ".py",
   "mimetype": "text/x-python",
   "name": "python",
   "nbconvert_exporter": "python",
   "pygments_lexer": "ipython3",
   "version": "3.9.13"
  }
 },
 "nbformat": 4,
 "nbformat_minor": 5
}
