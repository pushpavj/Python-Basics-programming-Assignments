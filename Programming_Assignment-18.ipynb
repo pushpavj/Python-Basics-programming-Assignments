{
 "cells": [
  {
   "cell_type": "markdown",
   "id": "190b8be6",
   "metadata": {},
   "source": [
    "Question 1\n",
    "Create a function that takes a list of non-negative integers and strings and return a new list without the strings.\n",
    "Examples\n",
    "filter_list([1, 2, \"a\", \"b\"]) ➞ [1, 2]\n",
    "\n",
    "filter_list([1, \"a\", \"b\", 0, 15]) ➞ [1, 0, 15]\n",
    "\n",
    "filter_list([1, 2, \"aasf\", \"1\", \"123\", 123]) ➞ [1, 2, 123]\n"
   ]
  },
  {
   "cell_type": "code",
   "execution_count": 1,
   "id": "fb586464",
   "metadata": {},
   "outputs": [
    {
     "name": "stdout",
     "output_type": "stream",
     "text": [
      "The filtered list:[1, 2]\n"
     ]
    }
   ],
   "source": [
    "def filter_list(l):\n",
    "    res=[i for i in l if(type(i)!=str)]\n",
    "    return res\n",
    "l=[1, 2, \"a\", \"b\"]\n",
    "print('The filtered list:{}'.format(filter_list(l)))"
   ]
  },
  {
   "cell_type": "markdown",
   "id": "c086573f",
   "metadata": {},
   "source": [
    "Question 2\n",
    "The \"Reverser\" takes a string as input and returns that string in reverse order, with the opposite case.\n",
    "Examples\n",
    "reverse(\"Hello World\") ➞ \"DLROw OLLEh\"\n",
    "\n",
    "reverse(\"ReVeRsE\") ➞ \"eSrEvEr\"\n",
    "\n",
    "reverse(\"Radar\") ➞ \"RADAr\"\n"
   ]
  },
  {
   "cell_type": "code",
   "execution_count": 5,
   "id": "5d604086",
   "metadata": {},
   "outputs": [
    {
     "data": {
      "text/plain": [
       "'AHSRAH'"
      ]
     },
     "execution_count": 5,
     "metadata": {},
     "output_type": "execute_result"
    }
   ],
   "source": [
    "def reverse(string):\n",
    "    s=string.swapcase()\n",
    "    return s[::-1]\n",
    "s='harsha'\n",
    "string=input('Enter the string:')"
   ]
  },
  {
   "cell_type": "markdown",
   "id": "b274eae2",
   "metadata": {},
   "source": [
    "You can assign variables from lists like this:\n",
    "lst = [1, 2, 3, 4, 5, 6]\n",
    "first = lst[0]\n",
    "middle = lst[1:-1]\n",
    "last = lst[-1]\n",
    "\n",
    "print(first) ➞ outputs 1\n",
    "print(middle) ➞ outputs [2, 3, 4, 5]\n",
    "print(last) ➞ outputs 6\n",
    "With Python 3, you can assign variables from lists in a much more succinct way. Create variables first, middle and last from the given list using destructuring assignment (check the Resources tab for some examples), where:\n",
    "first  ➞ 1\n",
    "\n",
    "middle ➞ [2, 3, 4, 5]\n",
    "\n",
    "last ➞ 6\n",
    "Your task is to unpack the list writeyourcodehere into three variables, being first, middle, and last, with middle being everything in between the first and last element. Then print all three variables.\n"
   ]
  },
  {
   "cell_type": "code",
   "execution_count": 10,
   "id": "cfb909f2",
   "metadata": {},
   "outputs": [
    {
     "name": "stdout",
     "output_type": "stream",
     "text": [
      "Enter the list:2 4 6 8\n",
      "First --> [2]\n",
      "Second--> [8]\n",
      "Middile--> [4, 6]\n"
     ]
    }
   ],
   "source": [
    "lst=[int(i) for i in input('Enter the list:').split(' ')]\n",
    "first,last=[lst[0]],[lst[len(lst)-1]]\n",
    "lst.pop(0)\n",
    "lst.pop(len(lst)-1)\n",
    "middile=lst\n",
    "print('First -->',first)\n",
    "print('Second-->',last)\n",
    "print('Middile-->',middile)"
   ]
  },
  {
   "cell_type": "markdown",
   "id": "413951e3",
   "metadata": {},
   "source": [
    "Question 4\n",
    "Write a function that calculates the factorial of a number recursively.\n",
    "Examples\n",
    "factorial(5) ➞ 120\n",
    "\n",
    "factorial(3) ➞ 6\n",
    "\n",
    "factorial(1) ➞ 1\n",
    "\n",
    "factorial(0) ➞ 1\n"
   ]
  },
  {
   "cell_type": "code",
   "execution_count": 15,
   "id": "c5f11f60",
   "metadata": {},
   "outputs": [
    {
     "name": "stdout",
     "output_type": "stream",
     "text": [
      "Enter the number:10\n",
      "The factorial of 10:3628800\n"
     ]
    }
   ],
   "source": [
    "def factorial(n):\n",
    "    if(n<=1):\n",
    "        return 1\n",
    "    else:\n",
    "        return n*factorial(n-1)\n",
    "n=int(input('Enter the number:'))\n",
    "print('The factorial of {}:{}'.format(n,factorial(n)))"
   ]
  },
  {
   "cell_type": "markdown",
   "id": "f427ee95",
   "metadata": {},
   "source": [
    "Question 5\n",
    "Write a function that moves all elements of one type to the end of the list.\n",
    "Examples\n",
    "move_to_end([1, 3, 2, 4, 4, 1], 1) ➞ [3, 2, 4, 4, 1, 1]\n",
    "\n",
    "# Move all the 1s to the end of the array.\n",
    "\n",
    "move_to_end([7, 8, 9, 1, 2, 3, 4], 9) ➞ [7, 8, 1, 2, 3, 4, 9]\n",
    "\n",
    "move_to_end([\"a\", \"a\", \"a\", \"b\"], \"a\") ➞ [\"b\", \"a\", \"a\", \"a\"]\n"
   ]
  },
  {
   "cell_type": "code",
   "execution_count": 16,
   "id": "7c83a682",
   "metadata": {},
   "outputs": [
    {
     "name": "stdout",
     "output_type": "stream",
     "text": [
      "Enter the numbers:1 3 2 4 4 1\n",
      "Enter te item:1\n",
      "Resultant list:[3, 2, 4, 4, 1, 1]\n"
     ]
    }
   ],
   "source": [
    "def move_to_end(lst,item):\n",
    "    p=lst.count(item)\n",
    "    temp=[item]*p\n",
    "    res=[i for i in lst if i!=item]\n",
    "    res.extend(temp)\n",
    "    return res\n",
    "lst=[int(i) for i in input('Enter the numbers:').split()]\n",
    "item=int(input('Enter te item:'))\n",
    "print('Resultant list:{}'.format(move_to_end(lst,item)))"
   ]
  },
  {
   "cell_type": "code",
   "execution_count": null,
   "id": "73f4ed07",
   "metadata": {},
   "outputs": [],
   "source": []
  }
 ],
 "metadata": {
  "kernelspec": {
   "display_name": "Python 3 (ipykernel)",
   "language": "python",
   "name": "python3"
  },
  "language_info": {
   "codemirror_mode": {
    "name": "ipython",
    "version": 3
   },
   "file_extension": ".py",
   "mimetype": "text/x-python",
   "name": "python",
   "nbconvert_exporter": "python",
   "pygments_lexer": "ipython3",
   "version": "3.9.13"
  }
 },
 "nbformat": 4,
 "nbformat_minor": 5
}
