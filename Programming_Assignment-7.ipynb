{
 "cells": [
  {
   "cell_type": "code",
   "execution_count": 3,
   "id": "49a2e6d8",
   "metadata": {},
   "outputs": [
    {
     "name": "stdout",
     "output_type": "stream",
     "text": [
      "Enter the number array:2 5 6 1\n",
      "Sum of array:14\n"
     ]
    }
   ],
   "source": [
    "#1.\tWrite a Python Program to find sum of array?\n",
    "arr=[int(i) for i in input('Enter the number array:').split()]\n",
    "print('Sum of array:{}'.format(sum(arr)))"
   ]
  },
  {
   "cell_type": "code",
   "execution_count": 4,
   "id": "c38fc105",
   "metadata": {},
   "outputs": [
    {
     "name": "stdout",
     "output_type": "stream",
     "text": [
      "Enter the number array:2 5 6 100\n",
      "Maximum element of array:100\n"
     ]
    }
   ],
   "source": [
    "#2.\tWrite a Python Program to find largest element in an array?\n",
    "arr=[int(i) for i in input('Enter the number array:').split()]\n",
    "print('Maximum element of array:{}'.format(max(arr)))"
   ]
  },
  {
   "cell_type": "code",
   "execution_count": 5,
   "id": "c5077531",
   "metadata": {},
   "outputs": [
    {
     "name": "stdout",
     "output_type": "stream",
     "text": [
      "Enter the number array:2  6 7\n",
      "Enter by which you wanna rotate:1\n",
      "[2, 6, 7]\n",
      "Rotated list is\n",
      "[6, 7, 2]\n"
     ]
    }
   ],
   "source": [
    "#3.\tWrite a Python Program for array rotation?\n",
    "def rotateList(arr,d,n):\n",
    "    arr[:]=arr[d:n]+arr[0:d]\n",
    "    return arr\n",
    "arr=[int(i) for i in input('Enter the number array:').split()]\n",
    "n=int(input('Enter by which you wanna rotate:'))\n",
    "print(arr)\n",
    "print(\"Rotated list is\")\n",
    "print(rotateList(arr,n,len(arr)))"
   ]
  },
  {
   "cell_type": "code",
   "execution_count": 7,
   "id": "145d0eca",
   "metadata": {},
   "outputs": [
    {
     "name": "stdout",
     "output_type": "stream",
     "text": [
      "Enter the number array:2 5 6 8\n",
      "The final array:[5, 6, 8, 2]\n"
     ]
    }
   ],
   "source": [
    "#4.\tWrite a Python Program to Split the array and add the first part to the end?\n",
    "arr=[int(i) for i in input('Enter the number array:').split()]\n",
    "arr.append(arr.pop(0))\n",
    "print('The final array:{}'.format(arr))"
   ]
  },
  {
   "cell_type": "code",
   "execution_count": 30,
   "id": "3fcb1366",
   "metadata": {},
   "outputs": [
    {
     "name": "stdout",
     "output_type": "stream",
     "text": [
      "Enter the number array:1 2 3\n"
     ]
    },
    {
     "data": {
      "text/plain": [
       "True"
      ]
     },
     "execution_count": 30,
     "metadata": {},
     "output_type": "execute_result"
    }
   ],
   "source": [
    "#5.\tWrite a Python Program to check if given array is Monotonic?\n",
    "'''An array is said to be monotonic if the elements in the array be either increasing or decreasing'''\n",
    "def isMonotonic(a):\n",
    "    n = len(a)\n",
    "    return (all(a[i]<=a[i+1] for i in range(n-1)) or\n",
    "            all(a[i]>=a[i+1] for i in range(n-1)))\n",
    "\n",
    "arr=[int(i) for i in input('Enter the number array:').split()]\n",
    "if(isMonotonic(arr)):\n",
    "    print('The')"
   ]
  },
  {
   "cell_type": "code",
   "execution_count": null,
   "id": "f7704feb",
   "metadata": {},
   "outputs": [],
   "source": []
  }
 ],
 "metadata": {
  "kernelspec": {
   "display_name": "Python 3 (ipykernel)",
   "language": "python",
   "name": "python3"
  },
  "language_info": {
   "codemirror_mode": {
    "name": "ipython",
    "version": 3
   },
   "file_extension": ".py",
   "mimetype": "text/x-python",
   "name": "python",
   "nbconvert_exporter": "python",
   "pygments_lexer": "ipython3",
   "version": "3.9.13"
  }
 },
 "nbformat": 4,
 "nbformat_minor": 5
}
