{
 "cells": [
  {
   "cell_type": "code",
   "execution_count": 10,
   "id": "a5ceae48",
   "metadata": {},
   "outputs": [
    {
     "name": "stdout",
     "output_type": "stream",
     "text": [
      "Enter number of rows:2\n",
      "Enter number of columns:2\n",
      "Enter first matrix elements:\n",
      "1\n",
      "2\n",
      "3\n",
      "4\n",
      "Enter second matrix elements:\n",
      "1\n",
      "1\n",
      "1\n",
      "1\n",
      "Addition of two matrices :\n",
      " [[2 3]\n",
      " [4 5]]\n"
     ]
    }
   ],
   "source": [
    "#1.\tWrite a Python Program to Add Two Matrices?\n",
    "import numpy as np\n",
    "def takeInputMatrix(n1,n2):\n",
    "    arr=[]\n",
    "    for i in range(n1):\n",
    "        col = []\n",
    "        for j in range(n2):\n",
    "            col.append(int(input()))\n",
    "        arr.append(col)\n",
    "    return tuple(arr)\n",
    "\n",
    "n1=int(input('Enter number of rows:'))\n",
    "n2=int(int(input('Enter number of columns:')))\n",
    "print('Enter first matrix elements:')\n",
    "arr1=np.array(tuple(takeInputMatrix(n1,n2)))\n",
    "print('Enter second matrix elements:')\n",
    "arr2=np.array(tuple(takeInputMatrix(n1,n2)))\n",
    "sum_arr=arr1+arr2\n",
    "print('Addition of two matrices :\\n',sum_arr)\n",
    "\n"
   ]
  },
  {
   "cell_type": "code",
   "execution_count": 16,
   "id": "0862a608",
   "metadata": {},
   "outputs": [
    {
     "name": "stdout",
     "output_type": "stream",
     "text": [
      "Enter number of rows:2\n",
      "Enter number of columns:2\n",
      "Enter first matrix elements:\n",
      "1\n",
      "1\n",
      "1\n",
      "1\n",
      "Enter second matrix elements:\n",
      "1\n",
      "1\n",
      "1\n",
      "1\n"
     ]
    },
    {
     "data": {
      "text/plain": [
       "array([[2, 2],\n",
       "       [2, 2]])"
      ]
     },
     "execution_count": 16,
     "metadata": {},
     "output_type": "execute_result"
    }
   ],
   "source": [
    "#2.\tWrite a Python Program to Multiply Two Matrices?\n",
    "import numpy as np\n",
    "def takeInputMatrix(n1,n2):\n",
    "    arr=[]\n",
    "    for i in range(n1):\n",
    "        col = []\n",
    "        for j in range(n2):\n",
    "            col.append(int(input()))\n",
    "        arr.append(col)\n",
    "    return tuple(arr)\n",
    "\n",
    "n1=int(input('Enter number of rows:'))\n",
    "n2=int(int(input('Enter number of columns:')))\n",
    "print('Enter first matrix elements:')\n",
    "arr1=np.array(tuple(takeInputMatrix(n1,n2)))\n",
    "print('Enter second matrix elements:')\n",
    "arr2=np.array(tuple(takeInputMatrix(n1,n2)))\n",
    "mul=np.matmul(arr1,arr2)\n",
    "mul"
   ]
  },
  {
   "cell_type": "code",
   "execution_count": 18,
   "id": "703c9a5e",
   "metadata": {},
   "outputs": [
    {
     "name": "stdout",
     "output_type": "stream",
     "text": [
      "Enter number of rows:2\n",
      "Enter number of columns:2\n",
      "Enter  matrix elements:\n",
      "1\n",
      "2\n",
      "3\n",
      "4\n",
      "Transpose of the matrix:\n",
      " [[1 3]\n",
      " [2 4]]\n"
     ]
    }
   ],
   "source": [
    "#3.\tWrite a Python Program to Transpose a Matrix?\n",
    "import numpy as np\n",
    "def takeInputMatrix(n1,n2):\n",
    "    arr=[]\n",
    "    for i in range(n1):\n",
    "        col = []\n",
    "        for j in range(n2):\n",
    "            col.append(int(input()))\n",
    "        arr.append(col)\n",
    "    return tuple(arr)\n",
    "\n",
    "n1=int(input('Enter number of rows:'))\n",
    "n2=int(int(input('Enter number of columns:')))\n",
    "print('Enter  matrix elements:')\n",
    "arr1=np.array(tuple(takeInputMatrix(n1,n2)))\n",
    "print('Transpose of the matrix:\\n',arr1.T)"
   ]
  },
  {
   "cell_type": "code",
   "execution_count": 19,
   "id": "5bb4fd5f",
   "metadata": {},
   "outputs": [
    {
     "name": "stdout",
     "output_type": "stream",
     "text": [
      "Enter a string: Harsha is good man with kidney\n",
      "The sorted words are:\n",
      "good\n",
      "harsha\n",
      "is\n",
      "kidney\n",
      "man\n",
      "with\n"
     ]
    }
   ],
   "source": [
    "#4.\tWrite a Python Program to Sort Words in Alphabetic Order?\n",
    "my_str = input(\"Enter a string: \")\n",
    "words = [word.lower() for word in my_str.split()]\n",
    "words.sort()\n",
    "print(\"The sorted words are:\")\n",
    "for word in words:\n",
    "    print(word)\n"
   ]
  },
  {
   "cell_type": "code",
   "execution_count": 23,
   "id": "48503ddf",
   "metadata": {},
   "outputs": [
    {
     "name": "stdout",
     "output_type": "stream",
     "text": [
      "Enter a string: !!Harsha is datascientist, nade by his passion.\n"
     ]
    },
    {
     "data": {
      "text/plain": [
       "'Harsha is datascientist nade by his passion'"
      ]
     },
     "execution_count": 23,
     "metadata": {},
     "output_type": "execute_result"
    }
   ],
   "source": [
    "#5.\tWrite a Python Program to Remove Punctuation From a String?\n",
    "my_str = input(\"Enter a string: \")\n",
    "res=''\n",
    "for i in my_str:\n",
    "    if(i.isalnum() or i==' '):\n",
    "        res+=i\n",
    "    else:\n",
    "        continue\n",
    "res"
   ]
  },
  {
   "cell_type": "code",
   "execution_count": null,
   "id": "29a630b1",
   "metadata": {},
   "outputs": [],
   "source": []
  }
 ],
 "metadata": {
  "kernelspec": {
   "display_name": "Python 3 (ipykernel)",
   "language": "python",
   "name": "python3"
  },
  "language_info": {
   "codemirror_mode": {
    "name": "ipython",
    "version": 3
   },
   "file_extension": ".py",
   "mimetype": "text/x-python",
   "name": "python",
   "nbconvert_exporter": "python",
   "pygments_lexer": "ipython3",
   "version": "3.9.13"
  }
 },
 "nbformat": 4,
 "nbformat_minor": 5
}
