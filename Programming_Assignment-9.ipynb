{
 "cells": [
  {
   "cell_type": "code",
   "execution_count": 3,
   "id": "aa3f9206",
   "metadata": {},
   "outputs": [
    {
     "name": "stdout",
     "output_type": "stream",
     "text": [
      "Enter the number:89\n",
      "Disarium Number\n"
     ]
    }
   ],
   "source": [
    "#1.\tWrite a Python program to check if the given number is a Disarium Number?\n",
    "import math\n",
    "def check(n) :\n",
    "    count_digits = len(str(n))\n",
    "    sum = 0  \n",
    "    x = n\n",
    "    while (x!=0) :\n",
    "        r = x % 10\n",
    "        sum = (int) (sum + math.pow(r, count_digits))\n",
    "        count_digits = count_digits - 1\n",
    "        x = x//10\n",
    "    if sum == n :\n",
    "        return True\n",
    "    else :\n",
    "        return False\n",
    "n = int(input('Enter the number:'))\n",
    "if (check(n) == 1) :\n",
    "    print (\"Disarium Number\")\n",
    "else :\n",
    "    print (\"Not a Disarium Number\")"
   ]
  },
  {
   "cell_type": "code",
   "execution_count": 5,
   "id": "28cfe918",
   "metadata": {},
   "outputs": [
    {
     "name": "stdout",
     "output_type": "stream",
     "text": [
      "1\n",
      "2\n",
      "3\n",
      "4\n",
      "5\n",
      "6\n",
      "7\n",
      "8\n",
      "9\n",
      "89\n"
     ]
    }
   ],
   "source": [
    "#2.\tWrite a Python program to print all disarium numbers between 1 to 100?\n",
    "for i in range(1,101):\n",
    "    if(check(i)):\n",
    "        print(i)"
   ]
  },
  {
   "cell_type": "code",
   "execution_count": 7,
   "id": "e846d4df",
   "metadata": {},
   "outputs": [
    {
     "name": "stdout",
     "output_type": "stream",
     "text": [
      "Enter a number:7\n",
      "The number is happy\n"
     ]
    }
   ],
   "source": [
    "#3.\tWrite a Python program to check if the given number is Happy Number?\n",
    "def is_happy(n):\n",
    "    my_list = []\n",
    "    while True:\n",
    "        str_number = str(n)\n",
    "        r = 0\n",
    "        for i in str_number:\n",
    "            r += (int(i) * int(i))\n",
    "        if r == 1:\n",
    "            return True\n",
    "        elif r in my_list:\n",
    "            return False\n",
    "        my_list.append(r)\n",
    "        n = r\n",
    "if (is_happy(int(input('Enter a number:')))):\n",
    "    print('The number is happy')\n",
    "else:\n",
    "    print('The number is not happy')"
   ]
  },
  {
   "cell_type": "code",
   "execution_count": 8,
   "id": "b6827b24",
   "metadata": {},
   "outputs": [
    {
     "name": "stdout",
     "output_type": "stream",
     "text": [
      "1\n",
      "7\n",
      "10\n",
      "13\n",
      "19\n",
      "23\n",
      "28\n",
      "31\n",
      "32\n",
      "44\n",
      "49\n",
      "68\n",
      "70\n",
      "79\n",
      "82\n",
      "86\n",
      "91\n",
      "94\n",
      "97\n",
      "100\n"
     ]
    }
   ],
   "source": [
    "#4.\tWrite a Python program to print all happy numbers between 1 and 100?\n",
    "for i in range(1,101):\n",
    "    if(is_happy(i)):\n",
    "        print(i)"
   ]
  },
  {
   "cell_type": "code",
   "execution_count": 9,
   "id": "5c30f082",
   "metadata": {},
   "outputs": [
    {
     "name": "stdout",
     "output_type": "stream",
     "text": [
      "Enter a number:156\n",
      "The number is Harshad number!\n"
     ]
    }
   ],
   "source": [
    "#5.\tWrite a Python program to determine whether the given number is a Harshad Number?\n",
    "num=int(input('Enter a number:'))\n",
    "s=str(num)\n",
    "sum_dig=0\n",
    "for i in s:\n",
    "    sum_dig+=int(i)\n",
    "if(num%sum_dig==0):\n",
    "    print('The number is Harshad number!')\n",
    "else:\n",
    "    print('Not an Harshad Number')"
   ]
  },
  {
   "cell_type": "code",
   "execution_count": null,
   "id": "a2c59a10",
   "metadata": {},
   "outputs": [],
   "source": [
    "#\n",
    "def checkPronic (x) :\n",
    "    i=0\n",
    "    while ( i <= (int)(math.sqrt(x)) ) :\n",
    "         \n",
    "        # Checking Pronic Number\n",
    "        # by multiplying consecutive\n",
    "        # numbers\n",
    "        if ( x == i * (i + 1)) :\n",
    "            return True\n",
    "        i = i + 1\n",
    " return False"
   ]
  }
 ],
 "metadata": {
  "kernelspec": {
   "display_name": "Python 3 (ipykernel)",
   "language": "python",
   "name": "python3"
  },
  "language_info": {
   "codemirror_mode": {
    "name": "ipython",
    "version": 3
   },
   "file_extension": ".py",
   "mimetype": "text/x-python",
   "name": "python",
   "nbconvert_exporter": "python",
   "pygments_lexer": "ipython3",
   "version": "3.9.13"
  }
 },
 "nbformat": 4,
 "nbformat_minor": 5
}
