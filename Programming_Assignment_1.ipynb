{
 "cells": [
  {
   "cell_type": "code",
   "execution_count": null,
   "metadata": {},
   "outputs": [],
   "source": [
    "1. Write a Python program to print \"Hello Python\"?"
   ]
  },
  {
   "cell_type": "code",
   "execution_count": 1,
   "metadata": {},
   "outputs": [
    {
     "name": "stdout",
     "output_type": "stream",
     "text": [
      "Hello Python\n"
     ]
    }
   ],
   "source": [
    "print(\"Hello Python\")"
   ]
  },
  {
   "cell_type": "code",
   "execution_count": null,
   "metadata": {},
   "outputs": [],
   "source": [
    "2. Write a Python program to do arithmetical operations addition and division.?\n"
   ]
  },
  {
   "cell_type": "code",
   "execution_count": 2,
   "metadata": {},
   "outputs": [
    {
     "name": "stdout",
     "output_type": "stream",
     "text": [
      "8\n",
      "3.0\n"
     ]
    }
   ],
   "source": [
    "a = 2\n",
    "b = 6\n",
    "print(a+b)\n",
    "print(b/a)"
   ]
  },
  {
   "cell_type": "code",
   "execution_count": null,
   "metadata": {},
   "outputs": [],
   "source": [
    "3. Write a Python program to find the area of a triangle?\n",
    "Ans: formula area of triangle = 1/2*base* height"
   ]
  },
  {
   "cell_type": "code",
   "execution_count": 4,
   "metadata": {},
   "outputs": [
    {
     "name": "stdout",
     "output_type": "stream",
     "text": [
      "Enter the base length of triangle: 4\n",
      "Enter the height of triangle: 5\n",
      "Area of Triangle is :  10.0\n"
     ]
    }
   ],
   "source": [
    "b=int(input(\"Enter the base length of triangle: \"))\n",
    "h=int(input(\"Enter the height of triangle: \"))\n",
    "Area_of_triangle= (1/2)*b*h\n",
    "print(\"Area of Triangle is : \",Area_of_triangle)"
   ]
  },
  {
   "cell_type": "code",
   "execution_count": null,
   "metadata": {},
   "outputs": [],
   "source": [
    "4.Write a Python program to swap two variables?"
   ]
  },
  {
   "cell_type": "code",
   "execution_count": 6,
   "metadata": {},
   "outputs": [
    {
     "name": "stdout",
     "output_type": "stream",
     "text": [
      "Enter the value of a oifusioa\n",
      "Enter the value of b jfdsjk\n",
      "Swaped value of a and b are:  jfdsjk   oifusioa\n"
     ]
    }
   ],
   "source": [
    "a=input(\"Enter the value of a \")\n",
    "b=input(\"Enter the value of b \")\n",
    "c=a\n",
    "a=b\n",
    "b=c\n",
    "print(\"Swaped value of a and b are: \",a,\" \", b)"
   ]
  },
  {
   "cell_type": "code",
   "execution_count": null,
   "metadata": {},
   "outputs": [],
   "source": [
    "5.Write a Python program to generate a random number?"
   ]
  },
  {
   "cell_type": "code",
   "execution_count": 26,
   "metadata": {},
   "outputs": [
    {
     "name": "stdout",
     "output_type": "stream",
     "text": [
      "Enter the number of random numbers to be generated: 25\n",
      "25 number of random numbers are: [5.218750000000001, 4.671875000000001, 4.216145833333335, 3.8363715277777786, 3.5198929398148153, 3.2561607831790127, 3.03638398598251, 2.853236654985425, 2.700613879154521, 2.573428232628767, 2.4674401938573056, 2.3791168282144213, 2.3055140235120177, 2.2441783529266814, 2.1930652941055677, 2.1504710784213064, 2.114975898684422, 2.085396582237018, 2.0607471518641813, 2.040205959886818, 2.0230882999056816, 2.0088235832547348, 1.9969363193789456, 1.987030266149121, 1.9787752217909342]\n"
     ]
    }
   ],
   "source": [
    "a=int(input(\"Enter the number of random numbers to be generated: \"))\n",
    "n=a\n",
    "\n",
    "random=[]\n",
    "for i in range(a):\n",
    "    b=n/24\n",
    "    c=n*4\n",
    "    d=b*5\n",
    "    number=b/c+d\n",
    "    random.append(number)\n",
    "    n=(number*10/2.5)+1.5\n",
    "\n",
    "print(f\"{a} number of random numbers are:\", random)\n",
    "    "
   ]
  },
  {
   "cell_type": "code",
   "execution_count": null,
   "metadata": {},
   "outputs": [],
   "source": []
  },
  {
   "cell_type": "code",
   "execution_count": null,
   "metadata": {},
   "outputs": [],
   "source": []
  },
  {
   "cell_type": "code",
   "execution_count": null,
   "metadata": {},
   "outputs": [],
   "source": []
  },
  {
   "cell_type": "code",
   "execution_count": null,
   "metadata": {},
   "outputs": [],
   "source": []
  },
  {
   "cell_type": "code",
   "execution_count": null,
   "metadata": {},
   "outputs": [],
   "source": []
  },
  {
   "cell_type": "code",
   "execution_count": null,
   "metadata": {},
   "outputs": [],
   "source": []
  },
  {
   "cell_type": "code",
   "execution_count": null,
   "metadata": {},
   "outputs": [],
   "source": []
  },
  {
   "cell_type": "code",
   "execution_count": null,
   "metadata": {},
   "outputs": [],
   "source": []
  }
 ],
 "metadata": {
  "kernelspec": {
   "display_name": "Python 3",
   "language": "python",
   "name": "python3"
  },
  "language_info": {
   "codemirror_mode": {
    "name": "ipython",
    "version": 3
   },
   "file_extension": ".py",
   "mimetype": "text/x-python",
   "name": "python",
   "nbconvert_exporter": "python",
   "pygments_lexer": "ipython3",
   "version": "3.7.6"
  }
 },
 "nbformat": 4,
 "nbformat_minor": 4
}
