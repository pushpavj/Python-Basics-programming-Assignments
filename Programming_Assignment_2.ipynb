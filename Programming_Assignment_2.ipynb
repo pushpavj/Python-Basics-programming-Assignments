{
 "cells": [
  {
   "cell_type": "code",
   "execution_count": null,
   "metadata": {},
   "outputs": [],
   "source": [
    "Write a Python program to convert kilometers to miles?\n",
    "Ans: 1 km = 0.621371 miles"
   ]
  },
  {
   "cell_type": "code",
   "execution_count": 4,
   "metadata": {},
   "outputs": [
    {
     "name": "stdout",
     "output_type": "stream",
     "text": [
      "Enter the number of Killometers: 25\n",
      "\n",
      "25 killometers in miles = : 15.534275000000001 miles\n"
     ]
    }
   ],
   "source": [
    "Km=int(input(\"Enter the number of Killometers: \"))\n",
    "Miles = 0.621371\n",
    "In_miles= Km*Miles\n",
    "print(f\"\\n{Km} killometers in miles = : {In_miles} miles\")"
   ]
  },
  {
   "cell_type": "code",
   "execution_count": null,
   "metadata": {},
   "outputs": [],
   "source": [
    "2. Write a Python program to convert Celsius to Fahrenheit?\n",
    "Ans:(0°C × 9/5) + 32 = 32°F"
   ]
  },
  {
   "cell_type": "code",
   "execution_count": 10,
   "metadata": {},
   "outputs": [
    {
     "name": "stdout",
     "output_type": "stream",
     "text": [
      "Enter the number of Celsius: 37\n",
      "\n",
      "37 Celsius in Fahrenheit = 98.6 Fahrenheit\n"
     ]
    }
   ],
   "source": [
    "C=int(input(\"Enter the number of Celsius: \"))\n",
    "F=((C*9)/5)+32\n",
    "print(f\"\\n{C} Celsius in Fahrenheit = {F} Fahrenheit\")"
   ]
  },
  {
   "cell_type": "code",
   "execution_count": null,
   "metadata": {},
   "outputs": [],
   "source": [
    "3.Write a Python program to display calendar?"
   ]
  },
  {
   "cell_type": "code",
   "execution_count": 131,
   "metadata": {},
   "outputs": [
    {
     "name": "stdout",
     "output_type": "stream",
     "text": [
      "Enter the month of the year: 2\n",
      "\n",
      "Enter the calendar year: 2021\n",
      "\n",
      "\n",
      "Month: February    Year 2021\n",
      "\n",
      "Mon   Tue   Wed  Thu  Fri    Sat   Sun\n",
      "1      2     3    4     5     6     7 \n",
      "8      9    10   11    12    13    14 \n",
      "15     16    17   18    19    20    21 \n",
      "22     23    24   25    26    27    28 \n"
     ]
    }
   ],
   "source": [
    "mm=int(input(\"Enter the month of the year: \"))\n",
    "yyyy=int(input(\"\\nEnter the calendar year: \"))\n",
    "\n",
    "import calendar\n",
    "m=calendar.monthcalendar(yyyy,mm)\n",
    "\n",
    "n=[]\n",
    "mon=[]\n",
    "tue=[]\n",
    "wed=[]\n",
    "thu=[]\n",
    "fri=[]\n",
    "sat=[]\n",
    "sun=[]\n",
    "\n",
    "month_names=[\"January\",\"February\",\"March\",\"April\",\"May\",\"June\",\"July\",\"August\",\"September\",\n",
    "            \"October\",\"November\",\"December\"]\n",
    "\n",
    "for i in range(1,13):\n",
    "    if i==mm:\n",
    "        b=i-1\n",
    "        month_name=month_names[b]\n",
    "#print(month_name)\n",
    "    \n",
    "\n",
    "for i in m:\n",
    "    mon.append(str(i[0]))\n",
    "    tue.append(str(i[1]))\n",
    "    wed.append(str(i[2]))\n",
    "    thu.append(str(i[3]))\n",
    "    fri.append(str(i[4]))\n",
    "    sat.append(str(i[5]))\n",
    "    sun.append(str(i[6]))\n",
    "\n",
    "print(f\"\\n\\nMonth: {month_name}    Year {yyyy}\")\n",
    "print(f'\\nMon   Tue   Wed  Thu  Fri    Sat   Sun'  )\n",
    "for i in range(len(m)):\n",
    "    print(f\"{mon[i].ljust(0)}     {tue[i].rjust(2)}    {wed[i].rjust(2)}   \" \n",
    "          f\"{thu[i].rjust(2)}   {fri[i].rjust(3)}    {sat[i].rjust(2)}    {sun[i].rjust(2)} \")\n",
    "    "
   ]
  },
  {
   "cell_type": "code",
   "execution_count": null,
   "metadata": {},
   "outputs": [],
   "source": [
    "4. Write a Python program to solve quadratic equation?\n",
    "Ans: ax**2 + bx + c = 0 where a, b, and c are coefficients of real numbers and a ≠ 0.\n",
    "    x = −b ± √(b**2 − 4ac)/ 2a"
   ]
  },
  {
   "cell_type": "code",
   "execution_count": 192,
   "metadata": {},
   "outputs": [
    {
     "name": "stdout",
     "output_type": "stream",
     "text": [
      "enter the value of a : 2\n",
      "enter the value of b : 3\n",
      "enter the value of c : -2\n",
      "2 3 -2\n",
      "one value of x is:  0.5\n",
      "another value of x is:  -2.0\n",
      "Tally of value 0.5 in quadratinc equation is:  0.0\n",
      "Tally of value -2.0 in quadratinc equation is:  0.0\n"
     ]
    }
   ],
   "source": [
    "a=int(input(\"enter the value of a : \"))\n",
    "b=int(input(\"enter the value of b : \"))\n",
    "c=int(input(\"enter the value of c : \"))\n",
    "print(a,b,c)\n",
    "u=(-b+(((b**2)-(4*a*c))**.5))/(2*a)\n",
    "v=(-b-(((b**2)-(4*a*c))**.5))/(2*a)\n",
    "print(\"one value of x is: \", u)\n",
    "print(\"another value of x is: \",v)\n",
    "eq1=a*(u**2)+b*u+c\n",
    "eq2=a*(v**2)+b*v+c\n",
    "print(f\"Tally of value {u} in quadratinc equation is: \",eq1)\n",
    "print(f\"Tally of value {v} in quadratinc equation is: \",eq2)"
   ]
  },
  {
   "cell_type": "code",
   "execution_count": null,
   "metadata": {},
   "outputs": [],
   "source": [
    "5.Write a Python program to swap two variables without temp variable?\n"
   ]
  },
  {
   "cell_type": "code",
   "execution_count": 196,
   "metadata": {},
   "outputs": [
    {
     "name": "stdout",
     "output_type": "stream",
     "text": [
      "enter the value of a : abcde\n",
      "enter the value of b: pqrst\n",
      "value of a after swap:  pqrst\n",
      "value of b after swap:  abcde\n"
     ]
    }
   ],
   "source": [
    "a=input(\"enter the value of a : \")\n",
    "b=input(\"enter the value of b: \")\n",
    "a=a+' '+b\n",
    "b=a.split()\n",
    "a=b[1]\n",
    "b=b[0]\n",
    "print(\"value of a after swap: \", a)\n",
    "print(\"value of b after swap: \", b)"
   ]
  },
  {
   "cell_type": "code",
   "execution_count": null,
   "metadata": {},
   "outputs": [],
   "source": []
  },
  {
   "cell_type": "code",
   "execution_count": null,
   "metadata": {},
   "outputs": [],
   "source": []
  },
  {
   "cell_type": "code",
   "execution_count": null,
   "metadata": {},
   "outputs": [],
   "source": []
  },
  {
   "cell_type": "code",
   "execution_count": null,
   "metadata": {},
   "outputs": [],
   "source": []
  },
  {
   "cell_type": "code",
   "execution_count": null,
   "metadata": {},
   "outputs": [],
   "source": []
  },
  {
   "cell_type": "code",
   "execution_count": null,
   "metadata": {},
   "outputs": [],
   "source": []
  },
  {
   "cell_type": "code",
   "execution_count": null,
   "metadata": {},
   "outputs": [],
   "source": []
  },
  {
   "cell_type": "code",
   "execution_count": null,
   "metadata": {},
   "outputs": [],
   "source": []
  },
  {
   "cell_type": "code",
   "execution_count": null,
   "metadata": {},
   "outputs": [],
   "source": []
  },
  {
   "cell_type": "code",
   "execution_count": null,
   "metadata": {},
   "outputs": [],
   "source": []
  }
 ],
 "metadata": {
  "kernelspec": {
   "display_name": "Python 3",
   "language": "python",
   "name": "python3"
  },
  "language_info": {
   "codemirror_mode": {
    "name": "ipython",
    "version": 3
   },
   "file_extension": ".py",
   "mimetype": "text/x-python",
   "name": "python",
   "nbconvert_exporter": "python",
   "pygments_lexer": "ipython3",
   "version": "3.7.6"
  }
 },
 "nbformat": 4,
 "nbformat_minor": 4
}
