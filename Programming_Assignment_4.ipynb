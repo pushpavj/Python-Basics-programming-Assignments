{
 "cells": [
  {
   "cell_type": "code",
   "execution_count": null,
   "metadata": {},
   "outputs": [],
   "source": [
    "1.Write a Python Program to Find the Factorial of a Number?\n"
   ]
  },
  {
   "cell_type": "code",
   "execution_count": 7,
   "metadata": {},
   "outputs": [
    {
     "name": "stdout",
     "output_type": "stream",
     "text": [
      "Please enter the number to find the factorial of it: 12\n",
      "\n",
      "Factorial of 12 is : 479001600\n"
     ]
    }
   ],
   "source": [
    "a=int(input(\"Please enter the number to find the factorial of it: \"))\n",
    "\n",
    "def fact_find(a):\n",
    "    b=a+1\n",
    "    fact=1\n",
    "    for i in range(1,b):\n",
    "        fact=fact*i\n",
    "    return fact\n",
    "n=fact_find(a)\n",
    "print(f\"\\nFactorial of {a} is : {n}\")"
   ]
  },
  {
   "cell_type": "code",
   "execution_count": null,
   "metadata": {},
   "outputs": [],
   "source": [
    "2.Write a Python Program to Display the multiplication Table?\n"
   ]
  },
  {
   "cell_type": "code",
   "execution_count": 13,
   "metadata": {},
   "outputs": [
    {
     "name": "stdout",
     "output_type": "stream",
     "text": [
      "Please enter the which multiplication table do you like to display: 5\n",
      "\n",
      "The multiplication table of 5 is:\n",
      "\n",
      "5 X 1 = 5\n",
      "5 X 2 = 10\n",
      "5 X 3 = 15\n",
      "5 X 4 = 20\n",
      "5 X 5 = 25\n",
      "5 X 6 = 30\n",
      "5 X 7 = 35\n",
      "5 X 8 = 40\n",
      "5 X 9 = 45\n",
      "5 X 10 = 50\n"
     ]
    }
   ],
   "source": [
    "a=int(input(\"Please enter the which multiplication table do you like to display: \"))\n",
    "\n",
    "def multi_table(a):\n",
    "    for i in range(1,11):\n",
    "        print(f\"{a} X {i} = {a*i}\")\n",
    "\n",
    "print(f\"\\nThe multiplication table of {a} is:\\n\")\n",
    "multi_table(a)\n",
    "        "
   ]
  },
  {
   "cell_type": "code",
   "execution_count": null,
   "metadata": {},
   "outputs": [],
   "source": [
    "3. Write a Python Program to Print the Fibonacci sequence?\n"
   ]
  },
  {
   "cell_type": "code",
   "execution_count": 16,
   "metadata": {},
   "outputs": [
    {
     "name": "stdout",
     "output_type": "stream",
     "text": [
      "Plese enter the number of Fibonacci sequence to be found: 5\n",
      "The 5 number of fibonacci sequence =\n",
      " [[1, 2, 3, 5, 8]]\n"
     ]
    }
   ],
   "source": [
    "a=int(input(\"Plese enter the number of Fibonacci sequence to be found: \"))\n",
    "\n",
    "def fibo_find(a):\n",
    "    new=1\n",
    "    prev=0\n",
    "    fibo=[]\n",
    "    for i in range(1,a+1):\n",
    "        back=new\n",
    "        new = new+prev\n",
    "        prev=back\n",
    "        fibo.append(new)\n",
    "    yield fibo\n",
    "\n",
    "fibo_series=fibo_find(a)\n",
    "print(f\"The {a} number of fibonacci sequence =\\n {[i for i in fibo_series]}\")\n",
    "\n",
    "        \n",
    "    "
   ]
  },
  {
   "cell_type": "code",
   "execution_count": null,
   "metadata": {},
   "outputs": [],
   "source": [
    "4.Write a Python Program to Check Armstrong Number?\n",
    "Ans:An Armstrong number of three digits is an integer such that the sum of the cubes \n",
    "    of its digits is equal to the number itself."
   ]
  },
  {
   "cell_type": "code",
   "execution_count": 23,
   "metadata": {},
   "outputs": [
    {
     "name": "stdout",
     "output_type": "stream",
     "text": [
      "Please enter the number to check if it is Armstrong number: 0\n",
      "\n",
      "The number 0 is Armstrong number.\n"
     ]
    }
   ],
   "source": [
    "a=int(input(\"Please enter the number to check if it is Armstrong number: \"))\n",
    "\n",
    "def arm_find(a):\n",
    "    b = str(a)\n",
    "    s=0\n",
    "    for i in b:\n",
    "        s=s+(int(i)**3)\n",
    "    return s\n",
    "\n",
    "sum=arm_find(a)\n",
    "if sum==a:\n",
    "    print(f\"\\nThe number {a} is Armstrong number.\")\n",
    "else:\n",
    "    print(f\"\\nThe number {a} is not Armstrong number.\")\n"
   ]
  },
  {
   "cell_type": "code",
   "execution_count": null,
   "metadata": {},
   "outputs": [],
   "source": [
    "5.Write a Python Program to Find Armstrong Number in an Interval?"
   ]
  },
  {
   "cell_type": "code",
   "execution_count": 32,
   "metadata": {},
   "outputs": [
    {
     "name": "stdout",
     "output_type": "stream",
     "text": [
      "Plese enter the number to find if any armstrong number within it: 1000\n",
      "\n",
      "The number of Armstrong numbers within 1000 are :\n",
      "\n",
      "[[0, 1, 153, 370, 371, 407]]\n"
     ]
    }
   ],
   "source": [
    "a=int(input(\"Plese enter the number to find if any armstrong number within it: \"))\n",
    "\n",
    "def find_arm(a):\n",
    "    arm_list=[]\n",
    "    for i in range(a+1):\n",
    "        b=str(i)\n",
    "        s=0\n",
    "        for j in b:\n",
    "            s=s+((int(j))**3)\n",
    "                    \n",
    "        if s==i:\n",
    "            arm_list.append(i)\n",
    "        \n",
    "    yield arm_list\n",
    "\n",
    "armlist=find_arm(a)\n",
    "\n",
    "print(f\"\\nThe number of Armstrong numbers within {a} are :\\n\\n{[i for i in armlist]}\")\n"
   ]
  },
  {
   "cell_type": "code",
   "execution_count": null,
   "metadata": {},
   "outputs": [],
   "source": [
    "6.Write a Python Program to Find the Sum of Natural Numbers?\n"
   ]
  },
  {
   "cell_type": "code",
   "execution_count": 34,
   "metadata": {},
   "outputs": [
    {
     "name": "stdout",
     "output_type": "stream",
     "text": [
      "Please enter the number to find the sum of all natural numbers within it : 5\n",
      "\n",
      "The sum of all natural numbers with in 5 is 15\n"
     ]
    }
   ],
   "source": [
    "a=int(input(\"Please enter the number to find the sum of all natural numbers within it : \"))\n",
    "\n",
    "def natu_find(a):\n",
    "    s=0\n",
    "    for i in range(1,a+1):\n",
    "        s=s+i\n",
    "    return s\n",
    "\n",
    "sum=natu_find(a)\n",
    "print(f\"\\nThe sum of all natural numbers with in {a} is {sum}\")"
   ]
  },
  {
   "cell_type": "code",
   "execution_count": null,
   "metadata": {},
   "outputs": [],
   "source": []
  },
  {
   "cell_type": "code",
   "execution_count": null,
   "metadata": {},
   "outputs": [],
   "source": []
  },
  {
   "cell_type": "code",
   "execution_count": null,
   "metadata": {},
   "outputs": [],
   "source": []
  },
  {
   "cell_type": "code",
   "execution_count": null,
   "metadata": {},
   "outputs": [],
   "source": []
  },
  {
   "cell_type": "code",
   "execution_count": null,
   "metadata": {},
   "outputs": [],
   "source": []
  },
  {
   "cell_type": "code",
   "execution_count": null,
   "metadata": {},
   "outputs": [],
   "source": []
  },
  {
   "cell_type": "code",
   "execution_count": null,
   "metadata": {},
   "outputs": [],
   "source": []
  },
  {
   "cell_type": "code",
   "execution_count": null,
   "metadata": {},
   "outputs": [],
   "source": []
  },
  {
   "cell_type": "code",
   "execution_count": null,
   "metadata": {},
   "outputs": [],
   "source": []
  },
  {
   "cell_type": "code",
   "execution_count": null,
   "metadata": {},
   "outputs": [],
   "source": []
  },
  {
   "cell_type": "code",
   "execution_count": null,
   "metadata": {},
   "outputs": [],
   "source": []
  }
 ],
 "metadata": {
  "kernelspec": {
   "display_name": "Python 3",
   "language": "python",
   "name": "python3"
  },
  "language_info": {
   "codemirror_mode": {
    "name": "ipython",
    "version": 3
   },
   "file_extension": ".py",
   "mimetype": "text/x-python",
   "name": "python",
   "nbconvert_exporter": "python",
   "pygments_lexer": "ipython3",
   "version": "3.7.6"
  }
 },
 "nbformat": 4,
 "nbformat_minor": 4
}
