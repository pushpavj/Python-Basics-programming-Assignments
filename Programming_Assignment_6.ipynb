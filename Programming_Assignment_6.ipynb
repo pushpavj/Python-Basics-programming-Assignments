{
 "cells": [
  {
   "cell_type": "code",
   "execution_count": null,
   "metadata": {},
   "outputs": [],
   "source": [
    "1.Write a Python Program to Display Fibonacci Sequence Using Recursion?\n"
   ]
  },
  {
   "cell_type": "code",
   "execution_count": 64,
   "metadata": {},
   "outputs": [
    {
     "name": "stdout",
     "output_type": "stream",
     "text": [
      "Plese enter the number of Fibonacci series to be generated10\n",
      "[0, 1, 1, 2, 3, 5, 8, 13, 21, 34]\n"
     ]
    }
   ],
   "source": [
    "def fibo(n):\n",
    "    \n",
    "    if n ==1:\n",
    "        return 0\n",
    "    elif n==2:\n",
    "        return 1\n",
    "    else:\n",
    "#        print(n)\n",
    "        return(fibo(n-1)+fibo(n-2))\n",
    "def fib(a):\n",
    "    l=[]\n",
    "    for i in range(1,a+1):\n",
    "        l.append(fibo(i))\n",
    "    return(l)\n",
    "        \n",
    "import pyinputplus        \n",
    "number=pyinputplus.inputInt(\"Plese enter the number of Fibonacci series to be generated\")\n",
    "fibser=fib(number)\n",
    "print(fibser)\n",
    "    "
   ]
  },
  {
   "cell_type": "code",
   "execution_count": null,
   "metadata": {},
   "outputs": [],
   "source": [
    "2.Write a Python Program to Find Factorial of Number Using Recursion?"
   ]
  },
  {
   "cell_type": "code",
   "execution_count": 63,
   "metadata": {},
   "outputs": [
    {
     "name": "stdout",
     "output_type": "stream",
     "text": [
      "Please enter the number to find the factorial of itfs\n",
      "'fs' is not an integer.\n",
      "Please enter the number to find the factorial of it5\n"
     ]
    },
    {
     "data": {
      "text/plain": [
       "120"
      ]
     },
     "execution_count": 63,
     "metadata": {},
     "output_type": "execute_result"
    }
   ],
   "source": [
    "def facto(n):\n",
    "    if n==1 or n==0:\n",
    "        return 1\n",
    "    else:\n",
    "        return n*facto(n-1)\n",
    "import pyinputplus\n",
    "number=pyinputplus.inputInt(\"Please enter the number to find the factorial of it\")\n",
    "facto(number)"
   ]
  },
  {
   "cell_type": "code",
   "execution_count": null,
   "metadata": {},
   "outputs": [],
   "source": [
    "3.Write a Python Program to calculate your Body Mass Index?"
   ]
  },
  {
   "cell_type": "code",
   "execution_count": 69,
   "metadata": {},
   "outputs": [
    {
     "name": "stdout",
     "output_type": "stream",
     "text": [
      "Please enter your weight in Kgs 60\n",
      "Plase enter your hight in foot 5.2\n"
     ]
    },
    {
     "data": {
      "text/plain": [
       "'Your BMI is 23.884416605125118 and it shows as Healthy'"
      ]
     },
     "execution_count": 69,
     "metadata": {},
     "output_type": "execute_result"
    }
   ],
   "source": [
    "def BMI(wt,ht):\n",
    "    bmi=wt/(ht**2)\n",
    "    if bmi >= 18 and bmi <= 24.9:\n",
    "        return f\"Your BMI is {bmi} and it shows as Healthy\"\n",
    "    elif bmi >= 25:\n",
    "        return f\"Your BMI is {bmi} and it shows Overweight\"\n",
    "    else:\n",
    "        return f\"Your BMI is {bmi} and it shows as Underweight\"\n",
    "    \n",
    "weight=pyinputplus.inputFloat(\"Please enter your weight in Kgs \")\n",
    "htfoot=pyinputplus.inputFloat(\"Plase enter your hight in foot \")\n",
    "htmeeter=htfoot*0.3048\n",
    "BMI(weight,htmeeter)"
   ]
  },
  {
   "cell_type": "code",
   "execution_count": null,
   "metadata": {},
   "outputs": [],
   "source": [
    "4.Write a Python Program to calculate the natural logarithm of any number?"
   ]
  },
  {
   "cell_type": "code",
   "execution_count": 4,
   "metadata": {},
   "outputs": [
    {
     "name": "stdout",
     "output_type": "stream",
     "text": [
      "Please enter the number to find the natural log of it 8\n"
     ]
    },
    {
     "data": {
      "text/plain": [
       "2.0794415416798357"
      ]
     },
     "execution_count": 4,
     "metadata": {},
     "output_type": "execute_result"
    }
   ],
   "source": [
    "def natlog(n):\n",
    "    import math\n",
    "    return math.log(n)\n",
    "import pyinputplus\n",
    "num=pyinputplus.inputInt(\"Please enter the number to find the natural log of it \")\n",
    "natlog(num)"
   ]
  },
  {
   "cell_type": "code",
   "execution_count": null,
   "metadata": {},
   "outputs": [],
   "source": [
    "5.Write a Python Program for cube sum of first n natural numbers?\n"
   ]
  },
  {
   "cell_type": "code",
   "execution_count": 3,
   "metadata": {},
   "outputs": [
    {
     "name": "stdout",
     "output_type": "stream",
     "text": [
      "Please Enter the number for finding the cubsum of natural numbers3\n"
     ]
    },
    {
     "data": {
      "text/plain": [
       "36"
      ]
     },
     "execution_count": 3,
     "metadata": {},
     "output_type": "execute_result"
    }
   ],
   "source": [
    "def cubesum(n):\n",
    "    s=0\n",
    "    for i in range(1,n+1):\n",
    "        s=s+i**3\n",
    "    return s\n",
    "import pyinputplus\n",
    "num=pyinputplus.inputInt(\"Please Enter the number for finding the cubsum of natural numbers\")\n",
    "cubesum(3)"
   ]
  },
  {
   "cell_type": "code",
   "execution_count": null,
   "metadata": {},
   "outputs": [],
   "source": []
  },
  {
   "cell_type": "code",
   "execution_count": null,
   "metadata": {},
   "outputs": [],
   "source": []
  },
  {
   "cell_type": "code",
   "execution_count": null,
   "metadata": {},
   "outputs": [],
   "source": []
  },
  {
   "cell_type": "code",
   "execution_count": null,
   "metadata": {},
   "outputs": [],
   "source": []
  },
  {
   "cell_type": "code",
   "execution_count": null,
   "metadata": {},
   "outputs": [],
   "source": []
  }
 ],
 "metadata": {
  "kernelspec": {
   "display_name": "Python 3",
   "language": "python",
   "name": "python3"
  },
  "language_info": {
   "codemirror_mode": {
    "name": "ipython",
    "version": 3
   },
   "file_extension": ".py",
   "mimetype": "text/x-python",
   "name": "python",
   "nbconvert_exporter": "python",
   "pygments_lexer": "ipython3",
   "version": "3.7.6"
  }
 },
 "nbformat": 4,
 "nbformat_minor": 4
}
